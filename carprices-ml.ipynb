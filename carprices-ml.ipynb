{
 "cells": [
  {
   "cell_type": "code",
   "execution_count": 1,
   "id": "78171858",
   "metadata": {
    "_cell_guid": "b1076dfc-b9ad-4769-8c92-a6c4dae69d19",
    "_uuid": "8f2839f25d086af736a60e9eeb907d3b93b6e0e5",
    "execution": {
     "iopub.execute_input": "2024-09-19T09:11:42.281844Z",
     "iopub.status.busy": "2024-09-19T09:11:42.281063Z",
     "iopub.status.idle": "2024-09-19T09:11:44.756900Z",
     "shell.execute_reply": "2024-09-19T09:11:44.755686Z"
    },
    "papermill": {
     "duration": 2.487925,
     "end_time": "2024-09-19T09:11:44.759391",
     "exception": false,
     "start_time": "2024-09-19T09:11:42.271466",
     "status": "completed"
    },
    "tags": []
   },
   "outputs": [
    {
     "name": "stdout",
     "output_type": "stream",
     "text": [
      "/kaggle/input/vehicle-sales-data/car_prices.csv\n"
     ]
    }
   ],
   "source": [
    "# This Python 3 environment comes with many helpful analytics libraries installed\n",
    "# It is defined by the kaggle/python Docker image: https://github.com/kaggle/docker-python\n",
    "# For example, here's several helpful packages to load\n",
    "\n",
    "import numpy as np # linear algebra\n",
    "import pandas as pd # data processing, CSV file I/O (e.g. pd.read_csv)\n",
    "from datetime import datetime\n",
    "from sklearn.preprocessing import LabelEncoder\n",
    "from sklearn.model_selection import train_test_split\n",
    "import seaborn as sns\n",
    "import matplotlib.pyplot as plt \n",
    "from sklearn.linear_model import LinearRegression\n",
    "from sklearn.ensemble import RandomForestClassifier\n",
    "from sklearn.neighbors import KNeighborsClassifier\n",
    "from sklearn.cluster import KMeans\n",
    "from sklearn.metrics import mean_squared_error\n",
    "from sklearn.metrics import r2_score\n",
    "from sklearn.tree import DecisionTreeRegressor,export_graphviz\n",
    "from sklearn.metrics import accuracy_score\n",
    "from sklearn.cluster import AgglomerativeClustering\n",
    "from scipy.cluster.hierarchy import dendrogram\n",
    "from sklearn.neighbors import KNeighborsClassifier\n",
    "from sklearn.metrics import accuracy_score, classification_report, confusion_matrix\n",
    "from sklearn.preprocessing import LabelEncoder\n",
    "from sklearn.metrics import adjusted_rand_score, homogeneity_score, completeness_score, v_measure_score\n",
    "import warnings\n",
    "warnings.filterwarnings(\"ignore\")\n",
    "from sklearn.model_selection import cross_val_score  # Cross-validation için gerekli fonksiyonu import ediyoruz\n",
    "\n",
    "\n",
    "# Input data files are available in the read-only \"../input/\" directory\n",
    "# For example, running this (by clicking run or pressing Shift+Enter) will list all files under the input directory\n",
    "\n",
    "import os\n",
    "for dirname, _, filenames in os.walk('/kaggle/input'):\n",
    "    for filename in filenames:\n",
    "        print(os.path.join(dirname, filename))\n",
    "\n",
    "# You can write up to 20GB to the current directory (/kaggle/working/) that gets preserved as output when you create a version using \"Save & Run All\" \n",
    "# You can also write temporary files to /kaggle/temp/, but they won't be saved outside of the current session"
   ]
  },
  {
   "cell_type": "code",
   "execution_count": 2,
   "id": "0dc4560c",
   "metadata": {
    "execution": {
     "iopub.execute_input": "2024-09-19T09:11:44.775401Z",
     "iopub.status.busy": "2024-09-19T09:11:44.774474Z",
     "iopub.status.idle": "2024-09-19T09:11:47.776985Z",
     "shell.execute_reply": "2024-09-19T09:11:47.775932Z"
    },
    "papermill": {
     "duration": 3.013028,
     "end_time": "2024-09-19T09:11:47.779489",
     "exception": false,
     "start_time": "2024-09-19T09:11:44.766461",
     "status": "completed"
    },
    "tags": []
   },
   "outputs": [],
   "source": [
    "file_path = \"/kaggle/input/vehicle-sales-data/car_prices.csv\"\n",
    "df = pd.read_csv(file_path)\n"
   ]
  },
  {
   "cell_type": "markdown",
   "id": "be2b513f",
   "metadata": {
    "papermill": {
     "duration": 0.00665,
     "end_time": "2024-09-19T09:11:47.793203",
     "exception": false,
     "start_time": "2024-09-19T09:11:47.786553",
     "status": "completed"
    },
    "tags": []
   },
   "source": [
    "# Keşifsel Veri Analizi (EDA - Exploratory Data Analysis)"
   ]
  },
  {
   "cell_type": "code",
   "execution_count": 3,
   "id": "df734032",
   "metadata": {
    "execution": {
     "iopub.execute_input": "2024-09-19T09:11:47.808660Z",
     "iopub.status.busy": "2024-09-19T09:11:47.807678Z",
     "iopub.status.idle": "2024-09-19T09:11:47.815493Z",
     "shell.execute_reply": "2024-09-19T09:11:47.814473Z"
    },
    "papermill": {
     "duration": 0.017786,
     "end_time": "2024-09-19T09:11:47.817640",
     "exception": false,
     "start_time": "2024-09-19T09:11:47.799854",
     "status": "completed"
    },
    "tags": []
   },
   "outputs": [
    {
     "data": {
      "text/plain": [
       "(558837, 16)"
      ]
     },
     "execution_count": 3,
     "metadata": {},
     "output_type": "execute_result"
    }
   ],
   "source": [
    "df.shape  # DataFrame'in satır sayısı ve sütun sayısı döndürür."
   ]
  },
  {
   "cell_type": "code",
   "execution_count": 4,
   "id": "102a579c",
   "metadata": {
    "execution": {
     "iopub.execute_input": "2024-09-19T09:11:47.833500Z",
     "iopub.status.busy": "2024-09-19T09:11:47.832628Z",
     "iopub.status.idle": "2024-09-19T09:11:47.998945Z",
     "shell.execute_reply": "2024-09-19T09:11:47.997954Z"
    },
    "papermill": {
     "duration": 0.17671,
     "end_time": "2024-09-19T09:11:48.001164",
     "exception": false,
     "start_time": "2024-09-19T09:11:47.824454",
     "status": "completed"
    },
    "tags": []
   },
   "outputs": [
    {
     "data": {
      "text/html": [
       "<div>\n",
       "<style scoped>\n",
       "    .dataframe tbody tr th:only-of-type {\n",
       "        vertical-align: middle;\n",
       "    }\n",
       "\n",
       "    .dataframe tbody tr th {\n",
       "        vertical-align: top;\n",
       "    }\n",
       "\n",
       "    .dataframe thead th {\n",
       "        text-align: right;\n",
       "    }\n",
       "</style>\n",
       "<table border=\"1\" class=\"dataframe\">\n",
       "  <thead>\n",
       "    <tr style=\"text-align: right;\">\n",
       "      <th></th>\n",
       "      <th>count</th>\n",
       "      <th>mean</th>\n",
       "      <th>std</th>\n",
       "      <th>min</th>\n",
       "      <th>25%</th>\n",
       "      <th>50%</th>\n",
       "      <th>75%</th>\n",
       "      <th>max</th>\n",
       "    </tr>\n",
       "  </thead>\n",
       "  <tbody>\n",
       "    <tr>\n",
       "      <th>year</th>\n",
       "      <td>558837.0</td>\n",
       "      <td>2010.038927</td>\n",
       "      <td>3.966864</td>\n",
       "      <td>1982.0</td>\n",
       "      <td>2007.0</td>\n",
       "      <td>2012.0</td>\n",
       "      <td>2013.0</td>\n",
       "      <td>2015.0</td>\n",
       "    </tr>\n",
       "    <tr>\n",
       "      <th>condition</th>\n",
       "      <td>547017.0</td>\n",
       "      <td>30.672365</td>\n",
       "      <td>13.402832</td>\n",
       "      <td>1.0</td>\n",
       "      <td>23.0</td>\n",
       "      <td>35.0</td>\n",
       "      <td>42.0</td>\n",
       "      <td>49.0</td>\n",
       "    </tr>\n",
       "    <tr>\n",
       "      <th>odometer</th>\n",
       "      <td>558743.0</td>\n",
       "      <td>68320.017767</td>\n",
       "      <td>53398.542821</td>\n",
       "      <td>1.0</td>\n",
       "      <td>28371.0</td>\n",
       "      <td>52254.0</td>\n",
       "      <td>99109.0</td>\n",
       "      <td>999999.0</td>\n",
       "    </tr>\n",
       "    <tr>\n",
       "      <th>mmr</th>\n",
       "      <td>558799.0</td>\n",
       "      <td>13769.377495</td>\n",
       "      <td>9679.967174</td>\n",
       "      <td>25.0</td>\n",
       "      <td>7100.0</td>\n",
       "      <td>12250.0</td>\n",
       "      <td>18300.0</td>\n",
       "      <td>182000.0</td>\n",
       "    </tr>\n",
       "    <tr>\n",
       "      <th>sellingprice</th>\n",
       "      <td>558825.0</td>\n",
       "      <td>13611.358810</td>\n",
       "      <td>9749.501628</td>\n",
       "      <td>1.0</td>\n",
       "      <td>6900.0</td>\n",
       "      <td>12100.0</td>\n",
       "      <td>18200.0</td>\n",
       "      <td>230000.0</td>\n",
       "    </tr>\n",
       "  </tbody>\n",
       "</table>\n",
       "</div>"
      ],
      "text/plain": [
       "                 count          mean           std     min      25%      50%  \\\n",
       "year          558837.0   2010.038927      3.966864  1982.0   2007.0   2012.0   \n",
       "condition     547017.0     30.672365     13.402832     1.0     23.0     35.0   \n",
       "odometer      558743.0  68320.017767  53398.542821     1.0  28371.0  52254.0   \n",
       "mmr           558799.0  13769.377495   9679.967174    25.0   7100.0  12250.0   \n",
       "sellingprice  558825.0  13611.358810   9749.501628     1.0   6900.0  12100.0   \n",
       "\n",
       "                  75%       max  \n",
       "year           2013.0    2015.0  \n",
       "condition        42.0      49.0  \n",
       "odometer      99109.0  999999.0  \n",
       "mmr           18300.0  182000.0  \n",
       "sellingprice  18200.0  230000.0  "
      ]
     },
     "execution_count": 4,
     "metadata": {},
     "output_type": "execute_result"
    }
   ],
   "source": [
    "df.describe().T  #istatistiksel özet\n"
   ]
  },
  {
   "cell_type": "code",
   "execution_count": 5,
   "id": "2e64b159",
   "metadata": {
    "execution": {
     "iopub.execute_input": "2024-09-19T09:11:48.016812Z",
     "iopub.status.busy": "2024-09-19T09:11:48.016455Z",
     "iopub.status.idle": "2024-09-19T09:11:48.316561Z",
     "shell.execute_reply": "2024-09-19T09:11:48.315351Z"
    },
    "papermill": {
     "duration": 0.310515,
     "end_time": "2024-09-19T09:11:48.318837",
     "exception": false,
     "start_time": "2024-09-19T09:11:48.008322",
     "status": "completed"
    },
    "tags": []
   },
   "outputs": [
    {
     "name": "stdout",
     "output_type": "stream",
     "text": [
      "<class 'pandas.core.frame.DataFrame'>\n",
      "RangeIndex: 558837 entries, 0 to 558836\n",
      "Data columns (total 16 columns):\n",
      " #   Column        Non-Null Count   Dtype  \n",
      "---  ------        --------------   -----  \n",
      " 0   year          558837 non-null  int64  \n",
      " 1   make          548536 non-null  object \n",
      " 2   model         548438 non-null  object \n",
      " 3   trim          548186 non-null  object \n",
      " 4   body          545642 non-null  object \n",
      " 5   transmission  493485 non-null  object \n",
      " 6   vin           558833 non-null  object \n",
      " 7   state         558837 non-null  object \n",
      " 8   condition     547017 non-null  float64\n",
      " 9   odometer      558743 non-null  float64\n",
      " 10  color         558088 non-null  object \n",
      " 11  interior      558088 non-null  object \n",
      " 12  seller        558837 non-null  object \n",
      " 13  mmr           558799 non-null  float64\n",
      " 14  sellingprice  558825 non-null  float64\n",
      " 15  saledate      558825 non-null  object \n",
      "dtypes: float64(4), int64(1), object(11)\n",
      "memory usage: 68.2+ MB\n"
     ]
    }
   ],
   "source": [
    "df.info()  #veriseti hakkında genel bilgileri getirir"
   ]
  },
  {
   "cell_type": "code",
   "execution_count": 6,
   "id": "b8e155d6",
   "metadata": {
    "execution": {
     "iopub.execute_input": "2024-09-19T09:11:48.336028Z",
     "iopub.status.busy": "2024-09-19T09:11:48.335407Z",
     "iopub.status.idle": "2024-09-19T09:11:48.621297Z",
     "shell.execute_reply": "2024-09-19T09:11:48.620273Z"
    },
    "papermill": {
     "duration": 0.297403,
     "end_time": "2024-09-19T09:11:48.623495",
     "exception": false,
     "start_time": "2024-09-19T09:11:48.326092",
     "status": "completed"
    },
    "tags": []
   },
   "outputs": [
    {
     "data": {
      "text/plain": [
       "year                0\n",
       "make            10301\n",
       "model           10399\n",
       "trim            10651\n",
       "body            13195\n",
       "transmission    65352\n",
       "vin                 4\n",
       "state               0\n",
       "condition       11820\n",
       "odometer           94\n",
       "color             749\n",
       "interior          749\n",
       "seller              0\n",
       "mmr                38\n",
       "sellingprice       12\n",
       "saledate           12\n",
       "dtype: int64"
      ]
     },
     "execution_count": 6,
     "metadata": {},
     "output_type": "execute_result"
    }
   ],
   "source": [
    "df.isna().sum()  #her sütundaki eksik (NaN) değerlerin toplamı\n"
   ]
  },
  {
   "cell_type": "code",
   "execution_count": 7,
   "id": "0646be27",
   "metadata": {
    "execution": {
     "iopub.execute_input": "2024-09-19T09:11:48.641158Z",
     "iopub.status.busy": "2024-09-19T09:11:48.640364Z",
     "iopub.status.idle": "2024-09-19T09:11:48.658582Z",
     "shell.execute_reply": "2024-09-19T09:11:48.657528Z"
    },
    "papermill": {
     "duration": 0.029393,
     "end_time": "2024-09-19T09:11:48.660712",
     "exception": false,
     "start_time": "2024-09-19T09:11:48.631319",
     "status": "completed"
    },
    "tags": []
   },
   "outputs": [
    {
     "data": {
      "text/html": [
       "<div>\n",
       "<style scoped>\n",
       "    .dataframe tbody tr th:only-of-type {\n",
       "        vertical-align: middle;\n",
       "    }\n",
       "\n",
       "    .dataframe tbody tr th {\n",
       "        vertical-align: top;\n",
       "    }\n",
       "\n",
       "    .dataframe thead th {\n",
       "        text-align: right;\n",
       "    }\n",
       "</style>\n",
       "<table border=\"1\" class=\"dataframe\">\n",
       "  <thead>\n",
       "    <tr style=\"text-align: right;\">\n",
       "      <th></th>\n",
       "      <th>year</th>\n",
       "      <th>make</th>\n",
       "      <th>model</th>\n",
       "      <th>trim</th>\n",
       "      <th>body</th>\n",
       "      <th>transmission</th>\n",
       "      <th>vin</th>\n",
       "      <th>state</th>\n",
       "      <th>condition</th>\n",
       "      <th>odometer</th>\n",
       "      <th>color</th>\n",
       "      <th>interior</th>\n",
       "      <th>seller</th>\n",
       "      <th>mmr</th>\n",
       "      <th>sellingprice</th>\n",
       "      <th>saledate</th>\n",
       "    </tr>\n",
       "  </thead>\n",
       "  <tbody>\n",
       "    <tr>\n",
       "      <th>0</th>\n",
       "      <td>2015</td>\n",
       "      <td>Kia</td>\n",
       "      <td>Sorento</td>\n",
       "      <td>LX</td>\n",
       "      <td>SUV</td>\n",
       "      <td>automatic</td>\n",
       "      <td>5xyktca69fg566472</td>\n",
       "      <td>ca</td>\n",
       "      <td>5.0</td>\n",
       "      <td>16639.0</td>\n",
       "      <td>white</td>\n",
       "      <td>black</td>\n",
       "      <td>kia motors america  inc</td>\n",
       "      <td>20500.0</td>\n",
       "      <td>21500.0</td>\n",
       "      <td>Tue Dec 16 2014 12:30:00 GMT-0800 (PST)</td>\n",
       "    </tr>\n",
       "    <tr>\n",
       "      <th>1</th>\n",
       "      <td>2015</td>\n",
       "      <td>Kia</td>\n",
       "      <td>Sorento</td>\n",
       "      <td>LX</td>\n",
       "      <td>SUV</td>\n",
       "      <td>automatic</td>\n",
       "      <td>5xyktca69fg561319</td>\n",
       "      <td>ca</td>\n",
       "      <td>5.0</td>\n",
       "      <td>9393.0</td>\n",
       "      <td>white</td>\n",
       "      <td>beige</td>\n",
       "      <td>kia motors america  inc</td>\n",
       "      <td>20800.0</td>\n",
       "      <td>21500.0</td>\n",
       "      <td>Tue Dec 16 2014 12:30:00 GMT-0800 (PST)</td>\n",
       "    </tr>\n",
       "    <tr>\n",
       "      <th>2</th>\n",
       "      <td>2014</td>\n",
       "      <td>BMW</td>\n",
       "      <td>3 Series</td>\n",
       "      <td>328i SULEV</td>\n",
       "      <td>Sedan</td>\n",
       "      <td>automatic</td>\n",
       "      <td>wba3c1c51ek116351</td>\n",
       "      <td>ca</td>\n",
       "      <td>45.0</td>\n",
       "      <td>1331.0</td>\n",
       "      <td>gray</td>\n",
       "      <td>black</td>\n",
       "      <td>financial services remarketing (lease)</td>\n",
       "      <td>31900.0</td>\n",
       "      <td>30000.0</td>\n",
       "      <td>Thu Jan 15 2015 04:30:00 GMT-0800 (PST)</td>\n",
       "    </tr>\n",
       "    <tr>\n",
       "      <th>3</th>\n",
       "      <td>2015</td>\n",
       "      <td>Volvo</td>\n",
       "      <td>S60</td>\n",
       "      <td>T5</td>\n",
       "      <td>Sedan</td>\n",
       "      <td>automatic</td>\n",
       "      <td>yv1612tb4f1310987</td>\n",
       "      <td>ca</td>\n",
       "      <td>41.0</td>\n",
       "      <td>14282.0</td>\n",
       "      <td>white</td>\n",
       "      <td>black</td>\n",
       "      <td>volvo na rep/world omni</td>\n",
       "      <td>27500.0</td>\n",
       "      <td>27750.0</td>\n",
       "      <td>Thu Jan 29 2015 04:30:00 GMT-0800 (PST)</td>\n",
       "    </tr>\n",
       "  </tbody>\n",
       "</table>\n",
       "</div>"
      ],
      "text/plain": [
       "   year   make     model        trim   body transmission                vin  \\\n",
       "0  2015    Kia   Sorento          LX    SUV    automatic  5xyktca69fg566472   \n",
       "1  2015    Kia   Sorento          LX    SUV    automatic  5xyktca69fg561319   \n",
       "2  2014    BMW  3 Series  328i SULEV  Sedan    automatic  wba3c1c51ek116351   \n",
       "3  2015  Volvo       S60          T5  Sedan    automatic  yv1612tb4f1310987   \n",
       "\n",
       "  state  condition  odometer  color interior  \\\n",
       "0    ca        5.0   16639.0  white    black   \n",
       "1    ca        5.0    9393.0  white    beige   \n",
       "2    ca       45.0    1331.0   gray    black   \n",
       "3    ca       41.0   14282.0  white    black   \n",
       "\n",
       "                                   seller      mmr  sellingprice  \\\n",
       "0                 kia motors america  inc  20500.0       21500.0   \n",
       "1                 kia motors america  inc  20800.0       21500.0   \n",
       "2  financial services remarketing (lease)  31900.0       30000.0   \n",
       "3                 volvo na rep/world omni  27500.0       27750.0   \n",
       "\n",
       "                                  saledate  \n",
       "0  Tue Dec 16 2014 12:30:00 GMT-0800 (PST)  \n",
       "1  Tue Dec 16 2014 12:30:00 GMT-0800 (PST)  \n",
       "2  Thu Jan 15 2015 04:30:00 GMT-0800 (PST)  \n",
       "3  Thu Jan 29 2015 04:30:00 GMT-0800 (PST)  "
      ]
     },
     "execution_count": 7,
     "metadata": {},
     "output_type": "execute_result"
    }
   ],
   "source": [
    "df.head(4)"
   ]
  },
  {
   "cell_type": "code",
   "execution_count": 8,
   "id": "6db52621",
   "metadata": {
    "execution": {
     "iopub.execute_input": "2024-09-19T09:11:48.678247Z",
     "iopub.status.busy": "2024-09-19T09:11:48.677296Z",
     "iopub.status.idle": "2024-09-19T09:11:49.169237Z",
     "shell.execute_reply": "2024-09-19T09:11:49.168224Z"
    },
    "papermill": {
     "duration": 0.503235,
     "end_time": "2024-09-19T09:11:49.171812",
     "exception": false,
     "start_time": "2024-09-19T09:11:48.668577",
     "status": "completed"
    },
    "tags": []
   },
   "outputs": [
    {
     "data": {
      "image/png": "[encoded data removed]",
      "text/plain": [
       "<Figure size 2000x700 with 1 Axes>"
      ]
     },
     "metadata": {},
     "output_type": "display_data"
    }
   ],
   "source": [
    "#en cok satan 10 arac tipi\n",
    "sns.set(rc = {'figure.figsize': (20,7)})\n",
    "top_10_body = df[\"body\"].value_counts().head(10).reset_index()\n",
    "top_10_body.columns = [\"body\",\"count\"]\n",
    "sns.barplot(y = \"count\", x = \"body\", data = top_10_body)\n",
    "plt.title(\"Top 10 bodies\", fontsize = 18)\n",
    "plt.xlabel(\"Body\", fontsize = 15)\n",
    "plt.ylabel(\"Count\", fontsize = 10)\n",
    "plt.xticks(rotation=90)\n",
    "plt.show()"
   ]
  },
  {
   "cell_type": "code",
   "execution_count": 9,
   "id": "16d27372",
   "metadata": {
    "execution": {
     "iopub.execute_input": "2024-09-19T09:11:49.190847Z",
     "iopub.status.busy": "2024-09-19T09:11:49.189931Z",
     "iopub.status.idle": "2024-09-19T09:11:49.574842Z",
     "shell.execute_reply": "2024-09-19T09:11:49.573725Z"
    },
    "papermill": {
     "duration": 0.396888,
     "end_time": "2024-09-19T09:11:49.577294",
     "exception": false,
     "start_time": "2024-09-19T09:11:49.180406",
     "status": "completed"
    },
    "tags": []
   },
   "outputs": [
    {
     "data": {
      "image/png": "[encoded data removed]",
      "text/plain": [
       "<Figure size 1000x600 with 1 Axes>"
      ]
     },
     "metadata": {},
     "output_type": "display_data"
    }
   ],
   "source": [
    "#en cok satılan araba modelleri ve fıyatlarını analız edelim\n",
    "sns.set(rc = {'figure.figsize':(10,6)})\n",
    "top_selling_models = df['model'].value_counts().head(10)\n",
    "sns.barplot(y = top_selling_models.values, x = top_selling_models.index, palette = 'cubehelix')\n",
    "plt.title(\"Top Selling car Models\", fontsize = 20)\n",
    "plt.xlabel(\"Model\", fontsize = 16)\n",
    "plt.ylabel(\"Count\", fontsize = 16)\n",
    "plt.xticks(rotation=90)\n",
    "plt.show()"
   ]
  },
  {
   "cell_type": "code",
   "execution_count": 10,
   "id": "07508962",
   "metadata": {
    "execution": {
     "iopub.execute_input": "2024-09-19T09:11:49.598598Z",
     "iopub.status.busy": "2024-09-19T09:11:49.597991Z",
     "iopub.status.idle": "2024-09-19T09:11:50.144154Z",
     "shell.execute_reply": "2024-09-19T09:11:50.143140Z"
    },
    "papermill": {
     "duration": 0.560101,
     "end_time": "2024-09-19T09:11:50.146643",
     "exception": false,
     "start_time": "2024-09-19T09:11:49.586542",
     "status": "completed"
    },
    "tags": []
   },
   "outputs": [
    {
     "data": {
      "image/png": "[encoded data removed]",
      "text/plain": [
       "<Figure size 400x400 with 2 Axes>"
      ]
     },
     "metadata": {},
     "output_type": "display_data"
    }
   ],
   "source": [
    "# Korelasyon matrisini hesaplama\n",
    "#Korelasyon değişkenler arasındaki ilişkinin gücünü ve yönünü anlamaya yardımcı olur.\n",
    "dfNumeric = df[['year','condition', 'odometer', 'mmr', 'sellingprice']]\n",
    "dfNumeric_corr = dfNumeric.corr()\n",
    "dfNumeric_corr[np.abs(dfNumeric_corr)<0.2] = 0\n",
    "plt.figure(figsize=(4,4))\n",
    "sns.heatmap(dfNumeric_corr,\n",
    "            vmin=-1,\n",
    "            vmax=1,\n",
    "            cmap='coolwarm',\n",
    "            annot=True);"
   ]
  },
  {
   "cell_type": "markdown",
   "id": "e1320520",
   "metadata": {
    "papermill": {
     "duration": 0.009811,
     "end_time": "2024-09-19T09:11:50.167054",
     "exception": false,
     "start_time": "2024-09-19T09:11:50.157243",
     "status": "completed"
    },
    "tags": []
   },
   "source": [
    "## Veri Ön İşleme "
   ]
  },
  {
   "cell_type": "code",
   "execution_count": 11,
   "id": "e6db29b6",
   "metadata": {
    "execution": {
     "iopub.execute_input": "2024-09-19T09:11:50.188413Z",
     "iopub.status.busy": "2024-09-19T09:11:50.188006Z",
     "iopub.status.idle": "2024-09-19T09:11:50.239305Z",
     "shell.execute_reply": "2024-09-19T09:11:50.238386Z"
    },
    "papermill": {
     "duration": 0.064916,
     "end_time": "2024-09-19T09:11:50.241949",
     "exception": false,
     "start_time": "2024-09-19T09:11:50.177033",
     "status": "completed"
    },
    "tags": []
   },
   "outputs": [],
   "source": [
    "df.drop(columns=['vin','state','seller','interior'], inplace=True)\n",
    "# satış fiyatını etkilemeyeceğini düşündüğüm colonları veri sretinden kalırıyorum"
   ]
  },
  {
   "cell_type": "code",
   "execution_count": 12,
   "id": "a4da3b6b",
   "metadata": {
    "execution": {
     "iopub.execute_input": "2024-09-19T09:11:50.263491Z",
     "iopub.status.busy": "2024-09-19T09:11:50.262566Z",
     "iopub.status.idle": "2024-09-19T09:11:50.361434Z",
     "shell.execute_reply": "2024-09-19T09:11:50.360357Z"
    },
    "papermill": {
     "duration": 0.112314,
     "end_time": "2024-09-19T09:11:50.364104",
     "exception": false,
     "start_time": "2024-09-19T09:11:50.251790",
     "status": "completed"
    },
    "tags": []
   },
   "outputs": [],
   "source": [
    "df.dropna(subset=['sellingprice'], inplace=True)\n",
    "# satış fiyatı olmayan 12 satır vardı az bir sayı oldugundan bunları kaldırıyorum"
   ]
  },
  {
   "cell_type": "code",
   "execution_count": 13,
   "id": "7fc09cb7",
   "metadata": {
    "execution": {
     "iopub.execute_input": "2024-09-19T09:11:50.385852Z",
     "iopub.status.busy": "2024-09-19T09:11:50.385468Z",
     "iopub.status.idle": "2024-09-19T09:11:52.492329Z",
     "shell.execute_reply": "2024-09-19T09:11:52.491209Z"
    },
    "papermill": {
     "duration": 2.121051,
     "end_time": "2024-09-19T09:11:52.495367",
     "exception": false,
     "start_time": "2024-09-19T09:11:50.374316",
     "status": "completed"
    },
    "tags": []
   },
   "outputs": [],
   "source": [
    "# satıs tarıhı kolonunu ay ve yıl kolonlarına parcaladım numeric yapmak ıcın\n",
    "df['saledate'] = df['saledate'].str.split(' ')\n",
    "df['sale_month'] = df['saledate'].str[1]\n",
    "df['sale_year'] = df['saledate'].str[3]\n",
    "df.drop('saledate',axis=1,inplace=True)"
   ]
  },
  {
   "cell_type": "code",
   "execution_count": 14,
   "id": "c951ec20",
   "metadata": {
    "execution": {
     "iopub.execute_input": "2024-09-19T09:11:52.521695Z",
     "iopub.status.busy": "2024-09-19T09:11:52.520696Z",
     "iopub.status.idle": "2024-09-19T09:11:52.854842Z",
     "shell.execute_reply": "2024-09-19T09:11:52.853849Z"
    },
    "papermill": {
     "duration": 0.348331,
     "end_time": "2024-09-19T09:11:52.857628",
     "exception": false,
     "start_time": "2024-09-19T09:11:52.509297",
     "status": "completed"
    },
    "tags": []
   },
   "outputs": [],
   "source": [
    "df['sale_year'] = pd.to_numeric(df['sale_year'])\n"
   ]
  },
  {
   "cell_type": "code",
   "execution_count": 15,
   "id": "250c6d81",
   "metadata": {
    "execution": {
     "iopub.execute_input": "2024-09-19T09:11:52.885751Z",
     "iopub.status.busy": "2024-09-19T09:11:52.884859Z",
     "iopub.status.idle": "2024-09-19T09:11:52.941981Z",
     "shell.execute_reply": "2024-09-19T09:11:52.940853Z"
    },
    "papermill": {
     "duration": 0.071827,
     "end_time": "2024-09-19T09:11:52.944523",
     "exception": false,
     "start_time": "2024-09-19T09:11:52.872696",
     "status": "completed"
    },
    "tags": []
   },
   "outputs": [],
   "source": [
    "#bos satırlardakı kayıp degerleri medyan ıle doldurdum\n",
    "numerical_columns = ['condition', 'odometer', 'mmr',\n",
    "                    'sale_year']\n",
    "\n",
    "for col in numerical_columns:\n",
    "    df[col] = df[col].fillna(df[col].median())"
   ]
  },
  {
   "cell_type": "code",
   "execution_count": 16,
   "id": "9670f2f7",
   "metadata": {
    "execution": {
     "iopub.execute_input": "2024-09-19T09:11:52.967175Z",
     "iopub.status.busy": "2024-09-19T09:11:52.966179Z",
     "iopub.status.idle": "2024-09-19T09:11:53.999673Z",
     "shell.execute_reply": "2024-09-19T09:11:53.998717Z"
    },
    "papermill": {
     "duration": 1.047361,
     "end_time": "2024-09-19T09:11:54.002206",
     "exception": false,
     "start_time": "2024-09-19T09:11:52.954845",
     "status": "completed"
    },
    "tags": []
   },
   "outputs": [],
   "source": [
    "#label encoder ile object verileri numeric verilere cevirdim\n",
    "le = LabelEncoder()\n",
    "df['make'] = le.fit_transform(df['make'])\n",
    "df['model'] = le.fit_transform(df['model'])\n",
    "df['trim'] = le.fit_transform(df['trim'])\n",
    "\n",
    "df['transmission'] = le.fit_transform(df['transmission'])\n",
    "df['body'] = le.fit_transform(df['body'])\n",
    "df['color'] = le.fit_transform(df['color'])\n",
    "df['sale_month'] = le.fit_transform(df['sale_month'])"
   ]
  },
  {
   "cell_type": "code",
   "execution_count": 17,
   "id": "c39db5ec",
   "metadata": {
    "execution": {
     "iopub.execute_input": "2024-09-19T09:11:54.024094Z",
     "iopub.status.busy": "2024-09-19T09:11:54.023697Z",
     "iopub.status.idle": "2024-09-19T09:11:54.040672Z",
     "shell.execute_reply": "2024-09-19T09:11:54.039636Z"
    },
    "papermill": {
     "duration": 0.03008,
     "end_time": "2024-09-19T09:11:54.042838",
     "exception": false,
     "start_time": "2024-09-19T09:11:54.012758",
     "status": "completed"
    },
    "tags": []
   },
   "outputs": [
    {
     "data": {
      "text/plain": [
       "year            0\n",
       "make            0\n",
       "model           0\n",
       "trim            0\n",
       "body            0\n",
       "transmission    0\n",
       "condition       0\n",
       "odometer        0\n",
       "color           0\n",
       "mmr             0\n",
       "sellingprice    0\n",
       "sale_month      0\n",
       "sale_year       0\n",
       "dtype: int64"
      ]
     },
     "execution_count": 17,
     "metadata": {},
     "output_type": "execute_result"
    }
   ],
   "source": [
    "df.isna().sum()  #her sütundaki eksik (NaN) değerlerin toplamı\n"
   ]
  },
  {
   "cell_type": "code",
   "execution_count": 18,
   "id": "cb491c8a",
   "metadata": {
    "execution": {
     "iopub.execute_input": "2024-09-19T09:11:54.064182Z",
     "iopub.status.busy": "2024-09-19T09:11:54.063775Z",
     "iopub.status.idle": "2024-09-19T09:11:54.084295Z",
     "shell.execute_reply": "2024-09-19T09:11:54.083168Z"
    },
    "papermill": {
     "duration": 0.034004,
     "end_time": "2024-09-19T09:11:54.086842",
     "exception": false,
     "start_time": "2024-09-19T09:11:54.052838",
     "status": "completed"
    },
    "tags": []
   },
   "outputs": [
    {
     "name": "stdout",
     "output_type": "stream",
     "text": [
      "<class 'pandas.core.frame.DataFrame'>\n",
      "Index: 558825 entries, 0 to 558836\n",
      "Data columns (total 13 columns):\n",
      " #   Column        Non-Null Count   Dtype  \n",
      "---  ------        --------------   -----  \n",
      " 0   year          558825 non-null  int64  \n",
      " 1   make          558825 non-null  int64  \n",
      " 2   model         558825 non-null  int64  \n",
      " 3   trim          558825 non-null  int64  \n",
      " 4   body          558825 non-null  int64  \n",
      " 5   transmission  558825 non-null  int64  \n",
      " 6   condition     558825 non-null  float64\n",
      " 7   odometer      558825 non-null  float64\n",
      " 8   color         558825 non-null  int64  \n",
      " 9   mmr           558825 non-null  float64\n",
      " 10  sellingprice  558825 non-null  float64\n",
      " 11  sale_month    558825 non-null  int64  \n",
      " 12  sale_year     558825 non-null  float64\n",
      "dtypes: float64(5), int64(8)\n",
      "memory usage: 59.7 MB\n"
     ]
    }
   ],
   "source": [
    "df.info()\n",
    "# verileri numeric hale getirdim ve nan kısımları doldurdum."
   ]
  },
  {
   "cell_type": "code",
   "execution_count": 19,
   "id": "89e9cdc8",
   "metadata": {
    "execution": {
     "iopub.execute_input": "2024-09-19T09:11:54.108730Z",
     "iopub.status.busy": "2024-09-19T09:11:54.108350Z",
     "iopub.status.idle": "2024-09-19T09:11:54.143193Z",
     "shell.execute_reply": "2024-09-19T09:11:54.142316Z"
    },
    "papermill": {
     "duration": 0.048704,
     "end_time": "2024-09-19T09:11:54.145723",
     "exception": false,
     "start_time": "2024-09-19T09:11:54.097019",
     "status": "completed"
    },
    "tags": []
   },
   "outputs": [],
   "source": [
    "#bagımlı ve bagımsız degişkenleri tanımladım\n",
    "y = df[\"sellingprice\"]\n",
    "x = df.drop([\"sellingprice\"],axis=1)"
   ]
  },
  {
   "cell_type": "code",
   "execution_count": 20,
   "id": "b066d93a",
   "metadata": {
    "execution": {
     "iopub.execute_input": "2024-09-19T09:11:54.167543Z",
     "iopub.status.busy": "2024-09-19T09:11:54.167170Z",
     "iopub.status.idle": "2024-09-19T09:11:54.306542Z",
     "shell.execute_reply": "2024-09-19T09:11:54.305573Z"
    },
    "papermill": {
     "duration": 0.153216,
     "end_time": "2024-09-19T09:11:54.309129",
     "exception": false,
     "start_time": "2024-09-19T09:11:54.155913",
     "status": "completed"
    },
    "tags": []
   },
   "outputs": [],
   "source": [
    "#veri setini eğitim ve test setlerine ayırdım\n",
    "x_train, x_test, y_train, y_test = train_test_split(x, y, test_size=0.2, random_state=42)\n"
   ]
  },
  {
   "cell_type": "markdown",
   "id": "4c4b26fe",
   "metadata": {
    "papermill": {
     "duration": 0.0099,
     "end_time": "2024-09-19T09:11:54.329202",
     "exception": false,
     "start_time": "2024-09-19T09:11:54.319302",
     "status": "completed"
    },
    "tags": []
   },
   "source": [
    "#  Algoritma Seçimi"
   ]
  },
  {
   "cell_type": "code",
   "execution_count": 21,
   "id": "0f3015d3",
   "metadata": {
    "execution": {
     "iopub.execute_input": "2024-09-19T09:11:54.351059Z",
     "iopub.status.busy": "2024-09-19T09:11:54.350637Z",
     "iopub.status.idle": "2024-09-19T09:11:55.926096Z",
     "shell.execute_reply": "2024-09-19T09:11:55.924873Z"
    },
    "papermill": {
     "duration": 1.589832,
     "end_time": "2024-09-19T09:11:55.929164",
     "exception": false,
     "start_time": "2024-09-19T09:11:54.339332",
     "status": "completed"
    },
    "tags": []
   },
   "outputs": [
    {
     "name": "stdout",
     "output_type": "stream",
     "text": [
      "Doğrusal Regresyon Doğruluk Skorları: [0.96715246 0.9701784  0.97057445]\n",
      "0.9671808491626027\n"
     ]
    }
   ],
   "source": [
    "#Doğrusal regresyon modeli\n",
    "linear = LinearRegression()\n",
    "model=linear.fit(x_train,y_train)  # Modeli eğitim verileri ile eğitiyoruz\n",
    "linear_scores = cross_val_score(linear, x, y, cv=3)  \n",
    "print(\"Doğrusal Regresyon Doğruluk Skorları:\", linear_scores)\n",
    "print(model.score(x_test,y_test))"
   ]
  },
  {
   "cell_type": "code",
   "execution_count": 22,
   "id": "b19a6534",
   "metadata": {
    "execution": {
     "iopub.execute_input": "2024-09-19T09:11:55.989967Z",
     "iopub.status.busy": "2024-09-19T09:11:55.989282Z",
     "iopub.status.idle": "2024-09-19T09:12:01.973068Z",
     "shell.execute_reply": "2024-09-19T09:12:01.971765Z"
    },
    "papermill": {
     "duration": 6.016165,
     "end_time": "2024-09-19T09:12:01.975321",
     "exception": false,
     "start_time": "2024-09-19T09:11:55.959156",
     "status": "completed"
    },
    "tags": []
   },
   "outputs": [
    {
     "name": "stdout",
     "output_type": "stream",
     "text": [
      "Decision Tree R^2 Score: 0.9477746458410505\n"
     ]
    }
   ],
   "source": [
    "# Karar ağaçları regresyonu\n",
    "tree_reg = DecisionTreeRegressor(random_state=42)\n",
    "treeModel=tree_reg.fit(x_train, y_train)\n",
    "\n",
    "# Modelin test verileri üzerindeki performansını değerlendirme\n",
    "y_pred = tree_reg.predict(x_test)\n",
    "r2 = r2_score(y_test, y_pred)# R² skorunu\n",
    "\n",
    "print(f\"Decision Tree R^2 Score: {r2}\")"
   ]
  },
  {
   "cell_type": "code",
   "execution_count": 23,
   "id": "4fb491c8",
   "metadata": {
    "execution": {
     "iopub.execute_input": "2024-09-19T09:12:01.997383Z",
     "iopub.status.busy": "2024-09-19T09:12:01.996467Z",
     "iopub.status.idle": "2024-09-19T09:12:53.030888Z",
     "shell.execute_reply": "2024-09-19T09:12:53.029760Z"
    },
    "papermill": {
     "duration": 51.057661,
     "end_time": "2024-09-19T09:12:53.043043",
     "exception": false,
     "start_time": "2024-09-19T09:12:01.985382",
     "status": "completed"
    },
    "tags": []
   },
   "outputs": [
    {
     "name": "stdout",
     "output_type": "stream",
     "text": [
      "kNN Doğruluk Skorları: [0.02240773 0.02061468 0.02048584]\n",
      "kNN Sınıflandırıcı Doğruluğu: 0.022475730327025455\n"
     ]
    }
   ],
   "source": [
    "# k-Nearest Neighbors kNN modeli\n",
    "knn = KNeighborsClassifier(n_neighbors=5)\n",
    "knn.fit(x_train, y_train)\n",
    "\n",
    "y_pred = knn.predict(x_test)\n",
    "label_encoder = LabelEncoder()\n",
    "# Modeli değerlendir\n",
    "knn_scores = cross_val_score(knn, x, y, cv=3)  # 3 katlı çapraz doğrulama\n",
    "print(\"kNN Doğruluk Skorları:\", knn_scores)\n",
    "\n",
    "print(\"kNN Sınıflandırıcı Doğruluğu:\", accuracy_score(y_test, y_pred))\n",
    "\n"
   ]
  },
  {
   "cell_type": "code",
   "execution_count": 24,
   "id": "0d6bc5bc",
   "metadata": {
    "execution": {
     "iopub.execute_input": "2024-09-19T09:12:53.065114Z",
     "iopub.status.busy": "2024-09-19T09:12:53.064427Z",
     "iopub.status.idle": "2024-09-19T09:13:37.857761Z",
     "shell.execute_reply": "2024-09-19T09:13:37.856732Z"
    },
    "papermill": {
     "duration": 44.806879,
     "end_time": "2024-09-19T09:13:37.859961",
     "exception": false,
     "start_time": "2024-09-19T09:12:53.053082",
     "status": "completed"
    },
    "tags": []
   },
   "outputs": [
    {
     "name": "stdout",
     "output_type": "stream",
     "text": [
      "kNN Doğruluk Skorları: [0.02240773 0.02061468 0.02048584]\n",
      "Adjusted Rand Index: 0.002365853715023529\n",
      "Homojenlik Skoru: 0.047444822479236586\n",
      "Completentlik Skoru: 0.45147740066472153\n",
      "V-Measure Skoru: 0.08586614960923206\n"
     ]
    }
   ],
   "source": [
    "# Unsupervised Learning\n",
    "# KMeans Clustering\n",
    "kmeans = KMeans(n_clusters=2, random_state=42)# 2 küme ile KMeans modelini başlatıyoruz\n",
    "kmeans.fit(x)\n",
    "knn_scores = cross_val_score(knn, x, y, cv=3)  # 3 katlı çapraz doğrulama\n",
    "print(\"kNN Doğruluk Skorları:\", knn_scores)\n",
    "\n",
    "\n",
    "# Kümeleri değerlendirmek için Adjusted Rand Index kullanımı\n",
    "print(\"Adjusted Rand Index:\", adjusted_rand_score(y, kmeans.labels_))#Kümelenme ve gerçek sınıflandırma arasındaki genel uyumu ölçer.\n",
    "print(\"Homojenlik Skoru:\", homogeneity_score(y, kmeans.labels_)) # Aynı sınıfa ait tüm örneklerin aynı kümeye düşme oranını ölçer\n",
    "print(\"Completentlik Skoru:\", completeness_score(y, kmeans.labels_)) #aynı sınıfa ait tüm örneklerin mümkün olduğunca aynı kümeye düşüp düşmediğini değerlendirir\n",
    "print(\"V-Measure Skoru:\", v_measure_score(y, kmeans.labels_))"
   ]
  },
  {
   "cell_type": "markdown",
   "id": "832197b0",
   "metadata": {
    "papermill": {
     "duration": 0.010219,
     "end_time": "2024-09-19T09:13:37.880663",
     "exception": false,
     "start_time": "2024-09-19T09:13:37.870444",
     "status": "completed"
    },
    "tags": []
   },
   "source": [
    "# Model Değerlendirme\n"
   ]
  },
  {
   "cell_type": "code",
   "execution_count": 25,
   "id": "59646504",
   "metadata": {
    "execution": {
     "iopub.execute_input": "2024-09-19T09:13:37.903585Z",
     "iopub.status.busy": "2024-09-19T09:13:37.903167Z",
     "iopub.status.idle": "2024-09-19T09:13:37.919922Z",
     "shell.execute_reply": "2024-09-19T09:13:37.918114Z"
    },
    "papermill": {
     "duration": 0.03159,
     "end_time": "2024-09-19T09:13:37.922804",
     "exception": false,
     "start_time": "2024-09-19T09:13:37.891214",
     "status": "completed"
    },
    "tags": []
   },
   "outputs": [
    {
     "name": "stdout",
     "output_type": "stream",
     "text": [
      "Linear Regression MSE: 3131524.6290410603\n",
      "Linear Regression R² score: 0.9671808491626027\n"
     ]
    }
   ],
   "source": [
    "#linear regrasyon modeli en yuksek skor aldıgım model oldu\n",
    "#modelin performansını değerlendirelim\n",
    "y_pred = model.predict(x_test)\n",
    "\n",
    "# Ortalama Kare Hatasını hesaplama\n",
    "print(f'Linear Regression MSE: {mean_squared_error(y_test, y_pred)}')\n",
    "\n",
    "# R² skorunu hesaplama\n",
    "print(f'Linear Regression R² score: {r2_score(y_test, y_pred)}')"
   ]
  }
 ],
 "metadata": {
  "kaggle": {
   "accelerator": "none",
   "dataSources": [
    {
     "datasetId": 4476093,
     "sourceId": 7673611,
     "sourceType": "datasetVersion"
    }
   ],
   "dockerImageVersionId": 30761,
   "isGpuEnabled": false,
   "isInternetEnabled": false,
   "language": "python",
   "sourceType": "notebook"
  },
  "kernelspec": {
   "display_name": "Python 3",
   "language": "python",
   "name": "python3"
  },
  "language_info": {
   "codemirror_mode": {
    "name": "ipython",
    "version": 3
   },
   "file_extension": ".py",
   "mimetype": "text/x-python",
   "name": "python",
   "nbconvert_exporter": "python",
   "pygments_lexer": "ipython3",
   "version": "3.10.14"
  },
  "papermill": {
   "default_parameters": {},
   "duration": 119.021664,
   "end_time": "2024-09-19T09:13:38.662447",
   "environment_variables": {},
   "exception": null,
   "input_path": "__notebook__.ipynb",
   "output_path": "__notebook__.ipynb",
   "parameters": {},
   "start_time": "2024-09-19T09:11:39.640783",
   "version": "2.6.0"
  }
 },
 "nbformat": 4,
 "nbformat_minor": 5
}
